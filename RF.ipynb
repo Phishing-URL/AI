{
  "nbformat": 4,
  "nbformat_minor": 0,
  "metadata": {
    "colab": {
      "provenance": [],
      "gpuType": "T4"
    },
    "kernelspec": {
      "name": "python3",
      "display_name": "Python 3"
    },
    "language_info": {
      "name": "python"
    }
  },
  "cells": [
    {
      "cell_type": "markdown",
      "source": [
        "# **import**"
      ],
      "metadata": {
        "id": "a3DhOhalmS1W"
      }
    },
    {
      "cell_type": "code",
      "execution_count": null,
      "metadata": {
        "id": "2BsAzwY1lPIv"
      },
      "outputs": [],
      "source": [
        "import time\n",
        "import matplotlib.pyplot as plt\n",
        "import seaborn as sns\n",
        "import pandas as pd\n",
        "import numpy as np\n",
        "from sklearn.preprocessing import StandardScaler\n",
        "from sklearn.pipeline import make_pipeline\n",
        "from sklearn.model_selection import cross_validate\n",
        "from sklearn.model_selection import train_test_split\n",
        "from sklearn.metrics import roc_curve, auc, roc_auc_score\n",
        "from sklearn.metrics import recall_score\n",
        "from sklearn.metrics import precision_score\n",
        "from sklearn.metrics import accuracy_score, f1_score\n",
        "from sklearn.metrics import confusion_matrix"
      ]
    },
    {
      "cell_type": "code",
      "source": [
        "from sklearn.ensemble import RandomForestClassifier, ExtraTreesClassifier"
      ],
      "metadata": {
        "id": "fdoLsQTzoCkO"
      },
      "execution_count": null,
      "outputs": []
    },
    {
      "cell_type": "markdown",
      "source": [
        "# **데이터셋 불러오기**"
      ],
      "metadata": {
        "id": "iiBe9QugoHCC"
      }
    },
    {
      "cell_type": "code",
      "source": [
        "df = pd.read_csv('데이터 경로')"
      ],
      "metadata": {
        "id": "w0fghmoToGux"
      },
      "execution_count": null,
      "outputs": []
    },
    {
      "cell_type": "code",
      "source": [
        "df_1 = df.drop(columns=['FILENAME', 'URL', 'Domain','Title','TLD'])\n",
        "df_1"
      ],
      "metadata": {
        "id": "Nw4kBFck7jR2"
      },
      "execution_count": null,
      "outputs": []
    },
    {
      "cell_type": "markdown",
      "source": [
        "# **데이터 상관관계 확인하기**"
      ],
      "metadata": {
        "id": "2TIyBcQJ6an4"
      }
    },
    {
      "cell_type": "code",
      "source": [
        "plt.figure(figsize=(30,16)) #상관관계 -1, 1에 가까울수록 상관관계가 높음 0에 가까울수록 관계없음\n",
        "sns.heatmap(df_1.corr(), cmap=sns.color_palette(\"coolwarm\", 10), annot=df_1.corr())\n"
      ],
      "metadata": {
        "id": "4x9BVs-G6lXf"
      },
      "execution_count": null,
      "outputs": []
    },
    {
      "cell_type": "markdown",
      "source": [
        "# **훈련용 테스트용 나누기**"
      ],
      "metadata": {
        "id": "87j6F4_qC65j"
      }
    },
    {
      "cell_type": "code",
      "source": [
        "X = df_1.drop(columns=['label'])\n",
        "X"
      ],
      "metadata": {
        "id": "WCbmH7BgDIqB"
      },
      "execution_count": null,
      "outputs": []
    },
    {
      "cell_type": "code",
      "source": [
        "y = df_1['label'].values\n",
        "y"
      ],
      "metadata": {
        "id": "ovX7_vShDf6u"
      },
      "execution_count": null,
      "outputs": []
    },
    {
      "cell_type": "code",
      "source": [
        "X_train, X_test, y_train, y_test = train_test_split(X, y, test_size=0.2, random_state=None, stratify=y)"
      ],
      "metadata": {
        "id": "Y7BwoPlVCbbR"
      },
      "execution_count": null,
      "outputs": []
    },
    {
      "cell_type": "code",
      "source": [
        "#모델 훈련\n",
        "dt = RandomForestClassifier(criterion='gini', max_depth=5)\n",
        "dt.fit(X_train, y_train)"
      ],
      "metadata": {
        "id": "dA7k5hdKEcV8"
      },
      "execution_count": null,
      "outputs": []
    },
    {
      "cell_type": "markdown",
      "source": [
        "# **모델 점수확인**"
      ],
      "metadata": {
        "id": "-BGKuPZNHLPC"
      }
    },
    {
      "cell_type": "code",
      "source": [
        "from sklearn.metrics import accuracy_score, f1_score\n",
        "y_train_pred = dt.predict(X_train)\n",
        "y_test_pred = dt.predict(X_test)\n",
        "\n",
        "#accuracy_scores\n",
        "print(\"- Accuracy (Train)           :  {:.4}\". format(accuracy_score(y_train, y_train_pred)))\n",
        "print(\"- Accuracy (Test) : {:.4}\".format(accuracy_score(y_test, y_test_pred)))\n",
        "#f1_scores\n",
        "print(\"- F1 score (Train)           :  {:.4}\".format(f1_score(y_train, y_train_pred)))\n",
        "print(\"- F1 score (Test) : {:.4}\".format(f1_score(y_test, y_test_pred)))"
      ],
      "metadata": {
        "id": "IYPrQcsIHAsS"
      },
      "execution_count": null,
      "outputs": []
    },
    {
      "cell_type": "markdown",
      "source": [
        "# **정밀도 확인**"
      ],
      "metadata": {
        "id": "VMBbC4UhLeRP"
      }
    },
    {
      "cell_type": "code",
      "source": [
        "from sklearn.metrics import precision_score\n",
        "#정밀도를 보는 이유 = 스펨 메일 같은 여부를 판단을 하는 경우 정밀도가 중요하다 (실제로 postive하는지 본다)\n",
        "precision = precision_score(y_test, y_test_pred)\n",
        "print(\"랜덤포레스트 정밀도:\", precision)"
      ],
      "metadata": {
        "id": "x3YQcMYBLghc"
      },
      "execution_count": null,
      "outputs": []
    },
    {
      "cell_type": "code",
      "source": [
        "#혼동행렬 시각화 Confusion Matrix 시각화\n",
        "from sklearn.metrics import confusion_matrix\n",
        "conf_matrix = confusion_matrix(y_test, y_test_pred)\n",
        "\n",
        "plt.figure(figsize=(8, 6))\n",
        "sns.heatmap(conf_matrix, annot=True, fmt=\"d\", cmap=\"Blues\", cbar=False)\n",
        "plt.xlabel('Predicted Labels')\n",
        "plt.ylabel('True Labels')\n",
        "plt.title('Confusion Matrix')\n",
        "plt.show()"
      ],
      "metadata": {
        "id": "Taeo4IkmNz9o"
      },
      "execution_count": null,
      "outputs": []
    },
    {
      "cell_type": "code",
      "source": [
        "#실제값과 예측의 산점도 시각화\n",
        "plt.figure(figsize=(8, 6))\n",
        "plt.scatter(y_test, y_test_pred)\n",
        "plt.plot([min(y_test), max(y_test)], [min(y_test), max(y_test)], '--', color='red')  # 대각선\n",
        "plt.xlabel('Actual Values')\n",
        "plt.ylabel('Predicted Values')\n",
        "plt.title('Actual vs. Predicted Values')\n",
        "plt.show()"
      ],
      "metadata": {
        "id": "9v1rHZWeOhIT"
      },
      "execution_count": null,
      "outputs": []
    },
    {
      "cell_type": "markdown",
      "source": [
        "# **교차검증**"
      ],
      "metadata": {
        "id": "_UWClyQjiVVw"
      }
    },
    {
      "cell_type": "code",
      "source": [
        "start_time = time.time()\n",
        "cross_val = cross_validate(\n",
        "    dt,\n",
        "    X,\n",
        "    y,\n",
        "    cv=5,\n",
        "    return_train_score=True,\n",
        "    scoring='accuracy'\n",
        ")\n",
        "end_time = time.time()\n",
        "total_cross_validation_time = end_time - start_time\n",
        "\n",
        "#전체 교차 검증 시간 출력\n",
        "total_cross_validation_time_minutes = total_cross_validation_time / 60\n",
        "print(\"총 교차 검증 시간(분) :\", total_cross_validation_time_minutes)\n",
        "# 전체 교차 검증 점수 출력\n",
        "print(\"훈련 점수:\", np.mean(cross_val['train_score']))\n",
        "print(\"검증 점수:\", np.mean(cross_val['test_score']))"
      ],
      "metadata": {
        "id": "tO3XZu4WiXyQ"
      },
      "execution_count": null,
      "outputs": []
    },
    {
      "cell_type": "markdown",
      "source": [
        "# **피처 중요도**"
      ],
      "metadata": {
        "id": "Y0LB15W_j-4P"
      }
    },
    {
      "cell_type": "code",
      "source": [
        "dt_importances =dt.feature_importances_\n",
        "feature_names = [f'Feature {i}' for i in range(X.shape[1])]\n",
        "feature_importance_df = pd.DataFrame({'Feature': feature_names, 'Importance': dt_importances})\n",
        "feature_importance_df = feature_importance_df.sort_values(by='Importance', ascending=False)"
      ],
      "metadata": {
        "id": "sTHI9vYSkDiT"
      },
      "execution_count": null,
      "outputs": []
    },
    {
      "cell_type": "code",
      "source": [
        "plt.figure(figsize=(10, 6))\n",
        "sns.barplot(x='Importance', y='Feature', data=feature_importance_df, palette='viridis')\n",
        "plt.title('Feature Importance')\n",
        "plt.xlabel('Importance')\n",
        "plt.ylabel('Feature')\n",
        "plt.show()"
      ],
      "metadata": {
        "id": "VHln0eSJrlbk"
      },
      "execution_count": null,
      "outputs": []
    },
    {
      "cell_type": "markdown",
      "source": [
        "# **AUC커브 ROC커브**"
      ],
      "metadata": {
        "id": "_wqkJhseDHwW"
      }
    },
    {
      "cell_type": "code",
      "source": [
        "#예측 및 양성 클래스의 예측 확률 얻기\n",
        "y_roc_pred = dt.predict_proba(X_test)[:, 1]\n",
        "\n",
        "\n",
        "#ROC 곡선 계산\n",
        "fpr, tpr, thresholds = roc_curve(y_test, y_roc_pred)\n",
        "\n",
        "#AUC 계산\n",
        "auc_score = auc(fpr, tpr)\n",
        "\n",
        "#ROC 곡선 시각화\n",
        "plt.figure(figsize=(8, 6))\n",
        "plt.plot(fpr, tpr, color='blue', lw=2, label='ROC curve (AUC = %0.2f)' % auc_score)\n",
        "plt.plot([0, 1], [0, 1], color='gray', linestyle='--')\n",
        "plt.xlim([0.0, 1.0])\n",
        "plt.ylim([0.0, 1.05])\n",
        "plt.xlabel('False Positive Rate')\n",
        "plt.ylabel('True Positive Rate')\n",
        "plt.title('Receiver Operating Characteristic (ROC) Curve')\n",
        "plt.legend(loc='lower right')\n",
        "plt.show()\n",
        "\n",
        "print(\"Random Forest AUC Score :\", auc_score)"
      ],
      "metadata": {
        "id": "IPawHiR8DLW9"
      },
      "execution_count": null,
      "outputs": []
    },
    {
      "cell_type": "markdown",
      "source": [
        "# **하이퍼 파라미터 튜닝**"
      ],
      "metadata": {
        "id": "9jL-om6kyQh_"
      }
    },
    {
      "cell_type": "code",
      "source": [
        "from sklearn.model_selection import GridSearchCV\n",
        "\n",
        "\n",
        "# Random Forest 모델 생성\n",
        "Rf = RandomForestClassifier(random_state=10)\n",
        "\n",
        "start_time = time.time()\n",
        "# 탐색할 하이퍼파라미터 범위 설정\n",
        "param_grid = {\n",
        "    'n_estimators': [100, 200, 300],\n",
        "    'max_depth': [None, 10, 30,],\n",
        "    'min_samples_split': [2, 3, 5, 7, 10],\n",
        "    'min_samples_leaf': [10, 20, 30]\n",
        "}\n",
        "\n",
        "\n",
        "# GridSearchCV를 사용하여 하이퍼파라미터 탐색\n",
        "grid_search = GridSearchCV(estimator=Rf, param_grid=param_grid, cv=5, n_jobs=-1)\n",
        "grid_search.fit(X_train, y_train)\n",
        "\n",
        "end_time = time.time()\n",
        "total_Grid_search_time = end_time - start_time\n",
        "# 최적의 하이퍼파라미터와 성능 출력\n",
        "total_Grid_search_time_minutes = total_Grid_search_time / 60\n",
        "print(\"총 하이퍼 파라미터 튜닝 시간(분) :\", total_Grid_search_time_minutes)\n",
        "print(\"Best Parameters:\", grid_search.best_params_)\n",
        "print(\"Best Score:\", grid_search.best_score_)"
      ],
      "metadata": {
        "id": "IMrSUvHNySx_"
      },
      "execution_count": null,
      "outputs": []
    },
    {
      "cell_type": "markdown",
      "source": [
        "# **파라미터 튜닝 후 최종 모델 선정**"
      ],
      "metadata": {
        "id": "yNdprYP-pRKB"
      }
    },
    {
      "cell_type": "code",
      "source": [
        "best_tree = grid_search.best_estimator_\n",
        "best_tree"
      ],
      "metadata": {
        "id": "5iCTNDfwpUxh"
      },
      "execution_count": null,
      "outputs": []
    },
    {
      "cell_type": "code",
      "source": [
        "best_tree.fit(X_train, y_train)"
      ],
      "metadata": {
        "id": "drhqBTJppi8D"
      },
      "execution_count": null,
      "outputs": []
    },
    {
      "cell_type": "code",
      "source": [
        "y_pred = best_tree.predict(X_test)"
      ],
      "metadata": {
        "id": "6V8caR9qppnT"
      },
      "execution_count": null,
      "outputs": []
    },
    {
      "cell_type": "code",
      "source": [
        "print(\"------최종 test값으로 모델 성능평가-----------\")\n",
        "print('잘못 분류된 샘플 개수: %d' % (y_test != y_pred).sum())\n",
        "print('정확도: %.3f' % accuracy_score(y_test, y_pred))\n",
        "print('정밀도: %.3f' % precision_score(y_test, y_pred))\n",
        "print('재현율: %.3f' % recall_score(y_test, y_pred))\n",
        "print('F1: %.3f' % f1_score(y_test, y_pred))"
      ],
      "metadata": {
        "id": "ylCu9NAXp0Lk"
      },
      "execution_count": null,
      "outputs": []
    },
    {
      "cell_type": "code",
      "source": [
        "y_best_roc_pred = best_tree.predict_proba(X_test)[:, 1]\n",
        "fpr, tpr, thresholds = roc_curve(y_test, y_best_roc_pred)\n",
        "auc_score = auc(fpr, tpr)"
      ],
      "metadata": {
        "id": "SF0WIG9lrTeQ"
      },
      "execution_count": null,
      "outputs": []
    },
    {
      "cell_type": "code",
      "source": [
        "plt.figure(figsize=(8, 6))\n",
        "plt.plot(fpr, tpr, color='blue', lw=2, label='Best_RF-ROC (AUC = %0.2f)' % auc_score)\n",
        "plt.plot([0, 1], [0, 1], color='gray', linestyle='--')\n",
        "plt.xlim([0.0, 1.0])\n",
        "plt.ylim([0.0, 1.05])\n",
        "plt.xlabel('False Positive Rate')\n",
        "plt.ylabel('True Positive Rate')\n",
        "plt.title('Best_Rf (ROC) Curve')\n",
        "plt.legend(loc='lower right')\n",
        "plt.show()\n",
        "\n",
        "print(\"Random Forest AUC Score :\", auc_score)"
      ],
      "metadata": {
        "id": "aeg_QUNcr7qr"
      },
      "execution_count": null,
      "outputs": []
    },
    {
      "cell_type": "code",
      "source": [
        "\n",
        "conf_matrix = confusion_matrix(y_test, y_pred)\n",
        "\n",
        "plt.figure(figsize=(8, 6))\n",
        "sns.heatmap(conf_matrix, annot=True, fmt=\"d\", cmap=\"Blues\", cbar=False)\n",
        "plt.xlabel('Predicted Labels')\n",
        "plt.ylabel('True Labels')\n",
        "plt.title('Best_RF-Confusion Matrix')\n",
        "plt.show()"
      ],
      "metadata": {
        "id": "J2beVxL7sddJ"
      },
      "execution_count": null,
      "outputs": []
    }
  ]
}