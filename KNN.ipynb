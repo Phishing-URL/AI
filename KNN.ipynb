{
  "nbformat": 4,
  "nbformat_minor": 0,
  "metadata": {
    "colab": {
      "provenance": []
    },
    "kernelspec": {
      "name": "python3",
      "display_name": "Python 3"
    },
    "language_info": {
      "name": "python"
    }
  },
  "cells": [
    {
      "cell_type": "markdown",
      "source": [
        "# **Import**"
      ],
      "metadata": {
        "id": "B4eHk_rl5EkU"
      }
    },
    {
      "cell_type": "code",
      "execution_count": null,
      "metadata": {
        "id": "YrXywm-p4qCe"
      },
      "outputs": [],
      "source": [
        "import time\n",
        "import matplotlib.pyplot as plt\n",
        "import seaborn as sns\n",
        "import pandas as pd\n",
        "import numpy as np\n",
        "from sklearn.preprocessing import StandardScaler\n",
        "from sklearn.pipeline import make_pipeline\n",
        "from sklearn.model_selection import cross_validate\n",
        "from sklearn.model_selection import train_test_split"
      ]
    },
    {
      "cell_type": "code",
      "source": [
        "from sklearn.neighbors import KNeighborsClassifier"
      ],
      "metadata": {
        "id": "81FjKMaf5Lly"
      },
      "execution_count": null,
      "outputs": []
    },
    {
      "cell_type": "markdown",
      "source": [
        "# **데이터셋 불러오기**"
      ],
      "metadata": {
        "id": "G1BB0kOq5VZU"
      }
    },
    {
      "cell_type": "code",
      "source": [
        "KNN = pd.read_csv('데이터 경로')"
      ],
      "metadata": {
        "id": "570u86ww5a9F"
      },
      "execution_count": null,
      "outputs": []
    },
    {
      "cell_type": "code",
      "source": [
        "KNN_dp = KNN.drop(columns=['FILENAME', 'URL', 'Domain','Title','TLD'])\n",
        "KNN_dp[]"
      ],
      "metadata": {
        "id": "3eFAYhxP5yTv",
        "collapsed": true
      },
      "execution_count": null,
      "outputs": []
    },
    {
      "cell_type": "markdown",
      "source": [
        "# **X, y값 나누기**"
      ],
      "metadata": {
        "id": "J_AGbghF5884"
      }
    },
    {
      "cell_type": "code",
      "source": [
        "X = KNN_dp.drop(columns=['label'])\n",
        "X"
      ],
      "metadata": {
        "id": "LNchjPDQ5_wA"
      },
      "execution_count": null,
      "outputs": []
    },
    {
      "cell_type": "code",
      "source": [
        "y = KNN_dp['label'].values\n",
        "y"
      ],
      "metadata": {
        "id": "VgKgC6VZ6GhZ"
      },
      "execution_count": null,
      "outputs": []
    },
    {
      "cell_type": "code",
      "source": [],
      "metadata": {
        "id": "Qm9-a7qigkXZ"
      },
      "execution_count": null,
      "outputs": []
    },
    {
      "cell_type": "markdown",
      "source": [
        "# **KNN모델 구축**"
      ],
      "metadata": {
        "id": "GPckC9bD6lC9"
      }
    },
    {
      "cell_type": "code",
      "source": [
        "X_train, X_test, y_train, y_test = train_test_split(X, y, test_size=0.2, random_state=None, stratify=y)"
      ],
      "metadata": {
        "id": "wq8nupdQ6nb9"
      },
      "execution_count": null,
      "outputs": []
    },
    {
      "cell_type": "code",
      "source": [
        "#모델 훈련\n",
        "KNN_md = KNeighborsClassifier()\n",
        "KNN_md.fit(X_train, y_train)"
      ],
      "metadata": {
        "id": "cl_yWM8165Vv"
      },
      "execution_count": null,
      "outputs": []
    },
    {
      "cell_type": "markdown",
      "source": [
        "# **모델 점수확인**"
      ],
      "metadata": {
        "id": "TPZSwIbd9CIN"
      }
    },
    {
      "cell_type": "code",
      "source": [
        "from sklearn.metrics import accuracy_score, f1_score\n",
        "y_train_pred = KNN_md.predict(X_train)\n",
        "y_test_pred = KNN_md.predict(X_test)\n",
        "\n",
        "#accuracy_scores\n",
        "print(\"- Accuracy (Train)           :  {:.4}\". format(accuracy_score(y_train, y_train_pred)))\n",
        "print(\"- Accuracy (Test) : {:.4}\".format(accuracy_score(y_test, y_test_pred)))\n",
        "#f1_scores\n",
        "print(\"- F1 score (Train)           :  {:.4}\".format(f1_score(y_train, y_train_pred)))\n",
        "print(\"- F1 score (Test) : {:.4}\".format(f1_score(y_test, y_test_pred)))"
      ],
      "metadata": {
        "id": "jf_V0mjd9Dls"
      },
      "execution_count": null,
      "outputs": []
    },
    {
      "cell_type": "markdown",
      "source": [
        "# **교차 검증**"
      ],
      "metadata": {
        "id": "lYSqfOhl9N74"
      }
    },
    {
      "cell_type": "code",
      "source": [
        "start_time = time.time()\n",
        "cross_val = cross_validate(\n",
        "    KNN_md,\n",
        "    X,\n",
        "    y,\n",
        "    cv=5,\n",
        "    return_train_score=True,\n",
        "    scoring='accuracy'\n",
        ")\n",
        "end_time = time.time()\n",
        "total_cross_validation_time = end_time - start_time\n",
        "\n",
        "#전체 교차 검증 시간 출력\n",
        "total_cross_validation_time_minutes = total_cross_validation_time / 60\n",
        "print(\"총 교차 검증 시간(분) :\", total_cross_validation_time_minutes)\n",
        "# 전체 교차 검증 점수 출력\n",
        "print(\"훈련 점수:\", np.mean(cross_val['train_score']))\n",
        "print(\"검증 점수:\", np.mean(cross_val['test_score']))"
      ],
      "metadata": {
        "id": "byvT230F9Pje"
      },
      "execution_count": null,
      "outputs": []
    },
    {
      "cell_type": "markdown",
      "source": [
        "# **정밀도**"
      ],
      "metadata": {
        "id": "kIQj4qYs_MBU"
      }
    },
    {
      "cell_type": "code",
      "source": [
        "from sklearn.metrics import precision_score\n",
        "precision = precision_score(y_test, y_test_pred)\n",
        "print(\"KNN:\", precision)"
      ],
      "metadata": {
        "id": "C_dYfF8K_Ne9"
      },
      "execution_count": null,
      "outputs": []
    },
    {
      "cell_type": "markdown",
      "source": [
        "# **혼동행렬**"
      ],
      "metadata": {
        "id": "4vsaF7Cr_RvE"
      }
    },
    {
      "cell_type": "code",
      "source": [
        "#혼동행렬 시각화 Confusion Matrix 시각화\n",
        "from sklearn.metrics import confusion_matrix\n",
        "conf_matrix = confusion_matrix(y_test, y_test_pred)\n",
        "\n",
        "plt.figure(figsize=(8, 6))\n",
        "sns.heatmap(conf_matrix, annot=True, fmt=\"d\", cmap=\"Blues\", cbar=False)\n",
        "plt.xlabel('Predicted Labels')\n",
        "plt.ylabel('True Labels')\n",
        "plt.title('Confusion Matrix')\n",
        "plt.show()"
      ],
      "metadata": {
        "id": "6D1FERYL_TOM"
      },
      "execution_count": null,
      "outputs": []
    }
  ]
}