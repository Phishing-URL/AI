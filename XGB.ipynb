{
  "nbformat": 4,
  "nbformat_minor": 0,
  "metadata": {
    "colab": {
      "provenance": []
    },
    "kernelspec": {
      "name": "python3",
      "display_name": "Python 3"
    },
    "language_info": {
      "name": "python"
    }
  },
  "cells": [
    {
      "cell_type": "markdown",
      "source": [
        "# **import**"
      ],
      "metadata": {
        "id": "O2vAGIEbgWt5"
      }
    },
    {
      "cell_type": "code",
      "execution_count": null,
      "metadata": {
        "id": "I8nuEbVfYTJO"
      },
      "outputs": [],
      "source": [
        "import time\n",
        "import numpy as np\n",
        "import pandas as pd\n",
        "import seaborn as sns\n",
        "import matplotlib.pyplot as plt\n",
        "from sklearn.model_selection import train_test_split\n",
        "from xgboost import XGBClassifier, plot_importance\n",
        "import xgboost as xgb\n",
        "\n",
        "from sklearn.model_selection import cross_validate\n",
        "from sklearn.metrics import accuracy_score, f1_score\n",
        "from sklearn.metrics import roc_curve, auc, roc_auc_score\n",
        "from sklearn.metrics import recall_score"
      ]
    },
    {
      "cell_type": "markdown",
      "source": [
        "# **csv파일 불러오기**"
      ],
      "metadata": {
        "id": "VTixEm8Dg8kN"
      }
    },
    {
      "cell_type": "code",
      "source": [
        "df = pd.read_csv('데이터 경로')\n",
        "df.shape\n",
        "df['label'].value_counts()"
      ],
      "metadata": {
        "id": "3Wg-HyeRg_Jl"
      },
      "execution_count": null,
      "outputs": []
    },
    {
      "cell_type": "code",
      "source": [
        "#입력 파일 정리\n",
        "df_1 = df.drop(columns=['FILENAME', 'URL', 'Domain','Title','TLD'])\n",
        "df_1"
      ],
      "metadata": {
        "id": "rSV9vHTuhAMt"
      },
      "execution_count": null,
      "outputs": []
    },
    {
      "cell_type": "markdown",
      "source": [
        "# **x값 y값 나누기**"
      ],
      "metadata": {
        "id": "AenSVsiKhTPg"
      }
    },
    {
      "cell_type": "code",
      "source": [
        "X = df_1.drop(columns=['label'])\n",
        "X"
      ],
      "metadata": {
        "id": "_CPmoE4hhVon"
      },
      "execution_count": null,
      "outputs": []
    },
    {
      "cell_type": "code",
      "source": [
        "y = df_1['label'].values\n",
        "y"
      ],
      "metadata": {
        "id": "6oKEJ8xNhXj3"
      },
      "execution_count": null,
      "outputs": []
    },
    {
      "cell_type": "code",
      "source": [
        "X_train, X_test, y_train, y_test = train_test_split(X, y, test_size=0.2, random_state=156)"
      ],
      "metadata": {
        "id": "VOVpMK14jS7u"
      },
      "execution_count": null,
      "outputs": []
    },
    {
      "cell_type": "code",
      "source": [
        "#모델 훈련\n",
        "XGB = XGBClassifier(max_depth=5, reg_lambda=0.1)\n",
        "XGB.fit(X_train, y_train)"
      ],
      "metadata": {
        "id": "46BryoozjnFo"
      },
      "execution_count": null,
      "outputs": []
    },
    {
      "cell_type": "code",
      "source": [
        "y_train_pred = XGB.predict(X_train)\n",
        "y_test_pred = XGB.predict(X_test)"
      ],
      "metadata": {
        "id": "LvHisztgl1UG"
      },
      "execution_count": null,
      "outputs": []
    },
    {
      "cell_type": "markdown",
      "source": [
        "# **평가하기**"
      ],
      "metadata": {
        "id": "hZZdfa_UmyxU"
      }
    },
    {
      "cell_type": "code",
      "source": [
        "#Accuracy\n",
        "print(\"- Accuracy (Train)           :  {:.4}\". format(accuracy_score(y_train, y_train_pred)))\n",
        "print(\"- Accuracy (Test) : {:.4}\".format(accuracy_score(y_test, y_test_pred)))\n",
        "#f1_scores\n",
        "print(\"- F1 score (Train)           :  {:.4}\".format(f1_score(y_train, y_train_pred)))\n",
        "print(\"- F1 score (Test) : {:.4}\".format(f1_score(y_test, y_test_pred)))"
      ],
      "metadata": {
        "id": "DljyCbF9m1Cm"
      },
      "execution_count": null,
      "outputs": []
    },
    {
      "cell_type": "markdown",
      "source": [
        "# **교차검증**"
      ],
      "metadata": {
        "id": "cJoWyruSnckJ"
      }
    },
    {
      "cell_type": "code",
      "source": [
        "start_time = time.time()\n",
        "cross_val = cross_validate(\n",
        "    XGB,\n",
        "    X,\n",
        "    y,\n",
        "    cv=5,\n",
        "    return_train_score=True,\n",
        "    scoring='accuracy'\n",
        ")\n",
        "end_time = time.time()\n",
        "total_cross_validation_time = end_time - start_time\n",
        "\n",
        "#전체 교차 검증 시간 출력\n",
        "total_cross_validation_time_minutes = total_cross_validation_time / 60\n",
        "print(\"총 교차 검증 시간(분) :\", total_cross_validation_time_minutes)\n",
        "# 전체 교차 검증 점수 출력\n",
        "print(\"훈련 점수:\", np.mean(cross_val['train_score']))\n",
        "print(\"검증 점수:\", np.mean(cross_val['test_score']))"
      ],
      "metadata": {
        "id": "exSCr560neSo"
      },
      "execution_count": null,
      "outputs": []
    },
    {
      "cell_type": "markdown",
      "source": [
        "# **정밀도**"
      ],
      "metadata": {
        "id": "2eWigmryr26O"
      }
    },
    {
      "cell_type": "code",
      "source": [
        "from sklearn.metrics import precision_score\n",
        "precision = precision_score(y_test, y_test_pred)\n",
        "print(\"XGB:\", precision)"
      ],
      "metadata": {
        "id": "GynQNN6wr7UE"
      },
      "execution_count": null,
      "outputs": []
    },
    {
      "cell_type": "markdown",
      "source": [
        "# **혼동행렬**"
      ],
      "metadata": {
        "id": "K8t3RZgFuf2g"
      }
    },
    {
      "cell_type": "code",
      "source": [
        "#혼동행렬 시각화 Confusion Matrix 시각화\n",
        "from sklearn.metrics import confusion_matrix\n",
        "conf_matrix = confusion_matrix(y_test, y_test_pred)\n",
        "\n",
        "plt.figure(figsize=(8, 6))\n",
        "sns.heatmap(conf_matrix, annot=True, fmt=\"d\", cmap=\"Blues\", cbar=False)\n",
        "plt.xlabel('Predicted Labels')\n",
        "plt.ylabel('True Labels')\n",
        "plt.title('Confusion Matrix')\n",
        "plt.show()"
      ],
      "metadata": {
        "id": "4tZhJXF7uhpf"
      },
      "execution_count": null,
      "outputs": []
    },
    {
      "cell_type": "markdown",
      "source": [
        "# **피처 중요도**"
      ],
      "metadata": {
        "id": "JWbKbgap3FT3"
      }
    },
    {
      "cell_type": "code",
      "source": [
        "fig, ax = plt.subplots(figsize=(20, 24))\n",
        "plot_importance(XGB, ax=ax)"
      ],
      "metadata": {
        "id": "TCbQ_8SEInjj"
      },
      "execution_count": null,
      "outputs": []
    },
    {
      "cell_type": "code",
      "source": [
        "XGB_importances =XGB.feature_importances_\n",
        "feature_names = [f'Feature {i}' for i in range(X.shape[1])]\n",
        "feature_importance_XGB = pd.DataFrame({'Feature': feature_names, 'Importance': XGB_importances})\n",
        "feature_importance_XGB = feature_importance_XGB.sort_values(by='Importance', ascending=False)"
      ],
      "metadata": {
        "id": "SqohcVmY3HUe"
      },
      "execution_count": null,
      "outputs": []
    },
    {
      "cell_type": "code",
      "source": [
        "plt.figure(figsize=(10, 6))\n",
        "sns.barplot(x='Importance', y='Feature', data=feature_importance_XGB, palette='viridis')\n",
        "plt.title('Feature Importance')\n",
        "plt.xlabel('Importance')\n",
        "plt.ylabel('Feature')\n",
        "plt.show()"
      ],
      "metadata": {
        "id": "M3SMrmaL3Q3Q"
      },
      "execution_count": null,
      "outputs": []
    },
    {
      "cell_type": "markdown",
      "source": [
        "# **AUC ROC 커브**"
      ],
      "metadata": {
        "id": "yOYZkSeeY3g_"
      }
    },
    {
      "cell_type": "code",
      "source": [
        "y_roc_pred = XGB.predict_proba(X_test)[:, 1]\n",
        "\n",
        "\n",
        "#ROC 곡선 계산\n",
        "fpr, tpr, thresholds = roc_curve(y_test, y_roc_pred)\n",
        "\n",
        "#AUC 계산\n",
        "auc_score = auc(fpr, tpr)\n",
        "\n",
        "#ROC 곡선 시각화\n",
        "plt.figure(figsize=(8, 6))\n",
        "plt.plot(fpr, tpr, color='blue', lw=2, label='ROC curve (AUC = %0.2f)' % auc_score)\n",
        "plt.plot([0, 1], [0, 1], color='gray', linestyle='--')\n",
        "plt.xlim([0.0, 1.0])\n",
        "plt.ylim([0.0, 1.05])\n",
        "plt.xlabel('False Positive Rate')\n",
        "plt.ylabel('True Positive Rate')\n",
        "plt.title('XGB- (ROC) Curve')\n",
        "plt.legend(loc='lower right')\n",
        "plt.show()\n",
        "\n",
        "print(\"XGB AUC Score :\", auc_score)"
      ],
      "metadata": {
        "id": "ywVDIat4Y6in"
      },
      "execution_count": null,
      "outputs": []
    },
    {
      "cell_type": "markdown",
      "source": [
        "# **하이퍼 파라미터 튜닝**"
      ],
      "metadata": {
        "id": "WD4nalQlxGZe"
      }
    },
    {
      "cell_type": "code",
      "source": [
        "from sklearn.model_selection import GridSearchCV\n",
        "\n",
        "\n",
        "# XGB 모델 생성\n",
        "Best_XGB = XGBClassifier(random_state=10)\n",
        "\n",
        "start_time = time.time()\n",
        "# 탐색할 하이퍼파라미터 범위 설정\n",
        "param_grid = {\n",
        "\n",
        "    'max_depth': [None, 10, 30,],\n",
        "    'min_child_weight': [1 ,2, 3, 5, 7, 10],\n",
        "    'subsample': [0.7, 0.8, 0.9, 1.0],\n",
        "    'colsample_bytree': [0.7, 0.8, 0.9, 1.0],\n",
        "    'gamma':[0, 0.1, 0.2, 0.3]\n",
        "}\n",
        "\n",
        "\n",
        "# GridSearchCV를 사용하여 하이퍼파라미터 탐색\n",
        "grid_search = GridSearchCV(estimator=Best_XGB, param_grid=param_grid,\n",
        "                           scoring='accuracy', cv=5, n_jobs=-1)\n",
        "grid_search.fit(X_train, y_train)\n",
        "\n",
        "end_time = time.time()\n",
        "total_Grid_search_time = end_time - start_time\n",
        "# 최적의 하이퍼파라미터와 성능 출력\n",
        "total_Grid_search_time_minutes = total_Grid_search_time / 60\n",
        "print(\"총 하이퍼 파라미터 튜닝 시간(분) :\", total_Grid_search_time_minutes)\n",
        "print(\"Best Parameters:\", grid_search.best_params_)\n",
        "print(\"Best Score:\", grid_search.best_score_)"
      ],
      "metadata": {
        "id": "QGAQ2AU8xIcD"
      },
      "execution_count": null,
      "outputs": []
    },
    {
      "cell_type": "code",
      "source": [
        "best_XGB = XGBClassifier(colsample_bytree=0.7, gamma=0, max_depth=None, min_child_weight=1, subsample=1)\n",
        "best_XGB.fit(X_train, y_train)"
      ],
      "metadata": {
        "id": "S_Xl1ZQzYCnv"
      },
      "execution_count": null,
      "outputs": []
    },
    {
      "cell_type": "code",
      "source": [
        "y_pred = best_XGB.predict(X_test)"
      ],
      "metadata": {
        "id": "sBdVObBzybxT"
      },
      "execution_count": null,
      "outputs": []
    },
    {
      "cell_type": "code",
      "source": [
        "print(\"------최종 XGB_test값으로 모델 성능평가-----------\")\n",
        "print('잘못 분류된 샘플 개수: %d' % (y_test != y_pred).sum())\n",
        "print('정확도: %.3f' % accuracy_score(y_test, y_pred))\n",
        "print('정밀도: %.3f' % precision_score(y_test, y_pred))\n",
        "print('재현율: %.3f' % recall_score(y_test, y_pred))\n",
        "print('F1: %.3f' % f1_score(y_test, y_pred))"
      ],
      "metadata": {
        "id": "XVo_KfTPymng"
      },
      "execution_count": null,
      "outputs": []
    },
    {
      "cell_type": "code",
      "source": [
        "y_best_roc_pred = best_XGB.predict_proba(X_test)[:, 1]\n",
        "fpr, tpr, thresholds = roc_curve(y_test, y_best_roc_pred)\n",
        "auc_score = auc(fpr, tpr)"
      ],
      "metadata": {
        "id": "H0RWY-j6y2RN"
      },
      "execution_count": null,
      "outputs": []
    },
    {
      "cell_type": "code",
      "source": [
        "plt.figure(figsize=(8, 6))\n",
        "plt.plot(fpr, tpr, color='blue', lw=2, label='Best_XGB-ROC (AUC = %0.2f)' % auc_score)\n",
        "plt.plot([0, 1], [0, 1], color='gray', linestyle='--')\n",
        "plt.xlim([0.0, 1.0])\n",
        "plt.ylim([0.0, 1.05])\n",
        "plt.xlabel('False Positive Rate')\n",
        "plt.ylabel('True Positive Rate')\n",
        "plt.title('Best_XGB (ROC) Curve')\n",
        "plt.legend(loc='lower right')\n",
        "plt.show()\n",
        "\n",
        "print(\"Best_XGB AUC Score :\", auc_score)"
      ],
      "metadata": {
        "id": "E6RTs8OWy6Kc"
      },
      "execution_count": null,
      "outputs": []
    },
    {
      "cell_type": "code",
      "source": [
        "conf_matrix = confusion_matrix(y_test, y_pred)\n",
        "\n",
        "plt.figure(figsize=(8, 6))\n",
        "sns.heatmap(conf_matrix, annot=True, fmt=\"d\", cmap=\"Blues\", cbar=False)\n",
        "plt.xlabel('Predicted Labels')\n",
        "plt.ylabel('True Labels')\n",
        "plt.title('Best_XGB-Confusion Matrix')\n",
        "plt.show()"
      ],
      "metadata": {
        "id": "vJMZKggUzDVb"
      },
      "execution_count": null,
      "outputs": []
    },
    {
      "cell_type": "markdown",
      "source": [
        "# **하이퍼 파라미터 후 퓨처 중요도**"
      ],
      "metadata": {
        "id": "sQ3Wd01tysyU"
      }
    },
    {
      "cell_type": "code",
      "source": [
        "dtrain = xgb.DMatrix(data=X_train, label=y_train)\n",
        "dtest = xgb.DMatrix(data=X_test, label=y_test)\n",
        "\n",
        "## xgboost 주요 하이퍼 파라미터 설정하기\n",
        "## 하이퍼 파라미터는 매우 중요하기 때문에, 별도 포스팅으로 설명\n",
        "## 연습 삼아 그냥 세팅하고 실행\n",
        "param = {\n",
        "    'max_depth': None,\n",
        "    'eta': 0.3,\n",
        "    'min_child_weight': 1,\n",
        "    'gamma': 0,\n",
        "    'sub_sample': 0.5,\n",
        "    'colsample_bytree': 0.55\n",
        "    }\n",
        "\n",
        "num_rounds = 500\n",
        "\n",
        "# train 데이터 세트는 'train', evaluation(test) 데이터 세트는 'eval' 로 명기\n",
        "wlist = [(dtrain, 'train'), (dtest,'eval')]\n",
        "# 하이퍼 파라미터와 early stopping 파라미터를 train() 함수의 파라미터로 전달\n",
        "xgb_model = xgb.train(params = param, dtrain=dtrain, num_boost_round=num_rounds, evals=wlist)"
      ],
      "metadata": {
        "id": "EKKZ0nCsywKY"
      },
      "execution_count": null,
      "outputs": []
    },
    {
      "cell_type": "code",
      "source": [
        "fig, ax = plt.subplots(figsize=(20, 24))\n",
        "plot_importance(xgb_model, ax=ax)"
      ],
      "metadata": {
        "id": "KGsONlQB09tD"
      },
      "execution_count": null,
      "outputs": []
    }
  ]
}